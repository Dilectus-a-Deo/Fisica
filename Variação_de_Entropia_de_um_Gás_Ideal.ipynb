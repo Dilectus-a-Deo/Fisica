{
  "nbformat": 4,
  "nbformat_minor": 0,
  "metadata": {
    "colab": {
      "provenance": [],
      "authorship_tag": "ABX9TyPjBkCMt707kqlAhsjrKAmJ",
      "include_colab_link": true
    },
    "kernelspec": {
      "name": "python3",
      "display_name": "Python 3"
    },
    "language_info": {
      "name": "python"
    }
  },
  "cells": [
    {
      "cell_type": "markdown",
      "metadata": {
        "id": "view-in-github",
        "colab_type": "text"
      },
      "source": [
        "<a href=\"https://colab.research.google.com/github/Dilectus-a-Deo/Fisica/blob/main/Varia%C3%A7%C3%A3o_de_Entropia_de_um_G%C3%A1s_Ideal.ipynb\" target=\"_parent\"><img src=\"https://colab.research.google.com/assets/colab-badge.svg\" alt=\"Open In Colab\"/></a>"
      ]
    },
    {
      "cell_type": "code",
      "execution_count": 5,
      "metadata": {
        "colab": {
          "base_uri": "https://localhost:8080/"
        },
        "id": "uYfKa-ANF9pS",
        "outputId": "d4ce653d-8b6b-41fe-db0e-b199d4c6384a"
      },
      "outputs": [
        {
          "output_type": "stream",
          "name": "stdout",
          "text": [
            "Variação de Entropia: 11.52565131835077 J/K\n"
          ]
        }
      ],
      "source": [
        "import math\n",
        "\n",
        "                       #Processo Isotérmico Reversível\n",
        "\n",
        "#inserindo variáveis\n",
        "\n",
        "def delta_s(N,V,T,V_f,V_i):\n",
        "\n",
        "  return N * R * math.log(V_f / V_i)\n",
        "\n",
        "#testando função\n",
        "\n",
        "N = 2\n",
        "R = 8.314\n",
        "T = 300\n",
        "V_i = 5\n",
        "V_f = 10\n",
        "delta_S = delta_s(N,R,T,V_f,V_i)\n",
        "\n",
        "#imprimindo função\n",
        "\n",
        "print(\"Variação de Entropia:\", delta_S ,\"J/K\")"
      ]
    }
  ]
}