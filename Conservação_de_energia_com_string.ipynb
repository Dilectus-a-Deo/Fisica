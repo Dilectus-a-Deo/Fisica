{
  "nbformat": 4,
  "nbformat_minor": 0,
  "metadata": {
    "colab": {
      "provenance": [],
      "authorship_tag": "ABX9TyPJ23+zR9ZB72C0d0M+wurn",
      "include_colab_link": true
    },
    "kernelspec": {
      "name": "python3",
      "display_name": "Python 3"
    },
    "language_info": {
      "name": "python"
    }
  },
  "cells": [
    {
      "cell_type": "markdown",
      "metadata": {
        "id": "view-in-github",
        "colab_type": "text"
      },
      "source": [
        "<a href=\"https://colab.research.google.com/github/Dilectus-a-Deo/Fisica/blob/main/Conserva%C3%A7%C3%A3o_de_energia_com_string.ipynb\" target=\"_parent\"><img src=\"https://colab.research.google.com/assets/colab-badge.svg\" alt=\"Open In Colab\"/></a>"
      ]
    },
    {
      "cell_type": "code",
      "execution_count": null,
      "metadata": {
        "id": "eKhqdge80Prd"
      },
      "outputs": [],
      "source": [
        "# Inserindo variáveis\n",
        "\n",
        "m = float(input(\"Digite a distância: \"))\n",
        "v = float(input(\"Digite a velociade: \"))\n",
        "h = float(input(\"Digite a altura: \"))\n",
        "g = float(input(\"Digite a gravidade: \"))\n",
        "\n",
        "# Analizando as expressões\n",
        "\n",
        "E_p = m * g * h\n",
        "E_c = 0.5 * m * v ** 2\n",
        "E_total = E_p + E_c\n",
        "\n",
        "# Testando a função\n",
        "\n",
        "E_p, E_c, E_total = energia(m, h, v)\n",
        "\n",
        "# Imprimindo\n",
        "\n",
        "print(\"Energia Potencial: \", E_p, \"J\")\n",
        "print(\"Energia Cinética: \", E_c, \"J\")\n",
        "print(\"Energia total:\",E_total, \"J\")\n",
        "\n",
        "\n",
        "\n",
        "\n",
        "\n",
        "\n",
        "\n",
        ""
      ]
    }
  ]
}