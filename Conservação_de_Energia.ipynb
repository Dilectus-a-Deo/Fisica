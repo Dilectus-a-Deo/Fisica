{
  "nbformat": 4,
  "nbformat_minor": 0,
  "metadata": {
    "colab": {
      "provenance": [],
      "authorship_tag": "ABX9TyNYLnYmEug6tqZ40c52Razr",
      "include_colab_link": true
    },
    "kernelspec": {
      "name": "python3",
      "display_name": "Python 3"
    },
    "language_info": {
      "name": "python"
    }
  },
  "cells": [
    {
      "cell_type": "markdown",
      "metadata": {
        "id": "view-in-github",
        "colab_type": "text"
      },
      "source": [
        "<a href=\"https://colab.research.google.com/github/Dilectus-a-Deo/Fisica/blob/main/Conserva%C3%A7%C3%A3o_de_Energia.ipynb\" target=\"_parent\"><img src=\"https://colab.research.google.com/assets/colab-badge.svg\" alt=\"Open In Colab\"/></a>"
      ]
    },
    {
      "cell_type": "code",
      "execution_count": 7,
      "metadata": {
        "colab": {
          "base_uri": "https://localhost:8080/"
        },
        "id": "RqIbbPjNAux6",
        "outputId": "32614e89-9961-41ec-9f3e-8580c424c0ce"
      },
      "outputs": [
        {
          "output_type": "stream",
          "name": "stdout",
          "text": [
            "Energia Potencial:  1960.0 J\n",
            "Energia Cinética:  4000.0 J\n",
            "Energia Total:  5960.0 J\n"
          ]
        }
      ],
      "source": [
        "def energia(m, h, v):\n",
        "\n",
        "    g = 9.8\n",
        "    E_p = m * g * h\n",
        "    E_c = 0.5 * m * v**2\n",
        "    E_total = E_p + E_c\n",
        "    return E_p, E_c, E_total\n",
        "\n",
        "# Testando a função\n",
        "\n",
        "m = 20\n",
        "h = 10\n",
        "v = 20\n",
        "E_p, E_c, E_total = energia(m, h, v)\n",
        "\n",
        "print(\"Energia Potencial: \", E_p, \"J\")\n",
        "print(\"Energia Cinética: \", E_c, \"J\")\n",
        "print(\"Energia Total: \", E_total, \"J\")\n"
      ]
    }
  ]
}