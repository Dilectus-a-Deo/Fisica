{
  "nbformat": 4,
  "nbformat_minor": 0,
  "metadata": {
    "colab": {
      "provenance": [],
      "authorship_tag": "ABX9TyOGjFzXYLLoJuciFoBc4Fhx",
      "include_colab_link": true
    },
    "kernelspec": {
      "name": "python3",
      "display_name": "Python 3"
    },
    "language_info": {
      "name": "python"
    }
  },
  "cells": [
    {
      "cell_type": "markdown",
      "metadata": {
        "id": "view-in-github",
        "colab_type": "text"
      },
      "source": [
        "<a href=\"https://colab.research.google.com/github/Dilectus-a-Deo/Fisica/blob/main/Corpo_Extenso.ipynb\" target=\"_parent\"><img src=\"https://colab.research.google.com/assets/colab-badge.svg\" alt=\"Open In Colab\"/></a>"
      ]
    },
    {
      "cell_type": "code",
      "execution_count": 2,
      "metadata": {
        "colab": {
          "base_uri": "https://localhost:8080/"
        },
        "id": "EgzsJ7vSnPjA",
        "outputId": "1c19b5c4-bb72-4fdc-fc80-804b2d7898eb"
      },
      "outputs": [
        {
          "output_type": "stream",
          "name": "stdout",
          "text": [
            "Para equilibrar a gangorra , a criança mais magra deve pesar 60.0 Kgf.\n"
          ]
        }
      ],
      "source": [
        "#Definição de variáveis\n",
        "\n",
        "peso_da_crianca_forte_kgf = 80\n",
        "distancia_da_crianca_forte_m = 1.5\n",
        "distancia_da_crianca_magra_m = 2\n",
        "\n",
        "#Cálculo do peso da criança mais magra para equilibrar a gangorra\n",
        "\n",
        "peso_da_crianca_magra_kgf = peso_da_crianca_forte_kgf * distancia_da_crianca_forte_m / distancia_da_crianca_magra_m\n",
        "\n",
        "#Imprimindo resultado\n",
        "\n",
        "print(f\"Para equilibrar a gangorra , a criança mais magra deve pesar {peso_da_crianca_magra_kgf} Kgf.\")"
      ]
    }
  ]
}