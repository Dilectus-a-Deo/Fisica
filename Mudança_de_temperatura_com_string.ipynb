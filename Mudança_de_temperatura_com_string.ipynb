{
  "nbformat": 4,
  "nbformat_minor": 0,
  "metadata": {
    "colab": {
      "provenance": [],
      "authorship_tag": "ABX9TyOC1t8hDUFp5nO4HUL1neta",
      "include_colab_link": true
    },
    "kernelspec": {
      "name": "python3",
      "display_name": "Python 3"
    },
    "language_info": {
      "name": "python"
    }
  },
  "cells": [
    {
      "cell_type": "markdown",
      "metadata": {
        "id": "view-in-github",
        "colab_type": "text"
      },
      "source": [
        "<a href=\"https://colab.research.google.com/github/Dilectus-a-Deo/Fisica/blob/main/Mudan%C3%A7a_de_temperatura_com_string.ipynb\" target=\"_parent\"><img src=\"https://colab.research.google.com/assets/colab-badge.svg\" alt=\"Open In Colab\"/></a>"
      ]
    },
    {
      "cell_type": "code",
      "execution_count": 4,
      "metadata": {
        "colab": {
          "base_uri": "https://localhost:8080/"
        },
        "id": "REfX6vJoRvND",
        "outputId": "5ab8a58b-9299-4541-ca98-f6101a22593f"
      },
      "outputs": [
        {
          "output_type": "stream",
          "name": "stdout",
          "text": [
            "Digite o valor da temperatura em celcius: 10\n",
            "A temperatura em  graus fahrenheit  é :  50.0\n"
          ]
        }
      ],
      "source": [
        "#Inserindo variáveis\n",
        "\n",
        "celsius = float(input(\"Digite o valor da temperatura em celcius: \"))\n",
        "\n",
        "#Transforamndo temperatura\n",
        "\n",
        "fahrenheit = (9 * celsius + 160) / 5\n",
        "\n",
        "#imprimindo o valor\n",
        "\n",
        "print(\"A temperatura em  graus fahrenheit  é : \" , fahrenheit)"
      ]
    }
  ]
}