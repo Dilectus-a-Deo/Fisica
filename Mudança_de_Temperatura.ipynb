{
  "nbformat": 4,
  "nbformat_minor": 0,
  "metadata": {
    "colab": {
      "provenance": [],
      "authorship_tag": "ABX9TyNAFLGdN27GP+VS1emyh+dR",
      "include_colab_link": true
    },
    "kernelspec": {
      "name": "python3",
      "display_name": "Python 3"
    },
    "language_info": {
      "name": "python"
    }
  },
  "cells": [
    {
      "cell_type": "markdown",
      "metadata": {
        "id": "view-in-github",
        "colab_type": "text"
      },
      "source": [
        "<a href=\"https://colab.research.google.com/github/Dilectus-a-Deo/Fisica/blob/main/Mudan%C3%A7a_de_Temperatura.ipynb\" target=\"_parent\"><img src=\"https://colab.research.google.com/assets/colab-badge.svg\" alt=\"Open In Colab\"/></a>"
      ]
    },
    {
      "cell_type": "code",
      "execution_count": 1,
      "metadata": {
        "colab": {
          "base_uri": "https://localhost:8080/"
        },
        "id": "yoiRJ0_djdUY",
        "outputId": "121980a0-6d6a-4b77-fdf4-86047bfe0932"
      },
      "outputs": [
        {
          "output_type": "stream",
          "name": "stdout",
          "text": [
            "Digite a temperatura em graus Fahrenheit: 10\n",
            "A temperatura em graus celsius é:  -12.222222222222223\n"
          ]
        }
      ],
      "source": [
        "#Pedindo para o usuário inserir a temperatura em graus Fahrenheit\n",
        "\n",
        "fahrenheit = float(input(\"Digite a temperatura em graus Fahrenheit: \" ))\n",
        "\n",
        "#Transformando a temperatura em graus celsius\n",
        "\n",
        "celsius = 5 * ((fahrenheit - 32) / 9)\n",
        "\n",
        "#imprimindo o valor\n",
        "\n",
        "print(\"A temperatura em graus celsius é: \", celsius)"
      ]
    }
  ]
}