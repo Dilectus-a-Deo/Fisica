{
  "nbformat": 4,
  "nbformat_minor": 0,
  "metadata": {
    "colab": {
      "provenance": [],
      "authorship_tag": "ABX9TyPv8D/EMDKmAK70YHROGcbQ",
      "include_colab_link": true
    },
    "kernelspec": {
      "name": "python3",
      "display_name": "Python 3"
    },
    "language_info": {
      "name": "python"
    }
  },
  "cells": [
    {
      "cell_type": "markdown",
      "metadata": {
        "id": "view-in-github",
        "colab_type": "text"
      },
      "source": [
        "<a href=\"https://colab.research.google.com/github/Dilectus-a-Deo/Fisica/blob/main/Velocidade_M%C3%A9dia_com_string.ipynb\" target=\"_parent\"><img src=\"https://colab.research.google.com/assets/colab-badge.svg\" alt=\"Open In Colab\"/></a>"
      ]
    },
    {
      "cell_type": "code",
      "execution_count": 1,
      "metadata": {
        "colab": {
          "base_uri": "https://localhost:8080/"
        },
        "id": "f4TQRE1Z3ycQ",
        "outputId": "b5f0d53b-08b7-4c5f-a2e5-cccef1dfc552"
      },
      "outputs": [
        {
          "output_type": "stream",
          "name": "stdout",
          "text": [
            "Digite o valor da velociade: 10\n",
            "Digite o valor da velociade: 12\n",
            "Digite o valor da velociade: 15\n",
            "O resutado da velocidade média pecorrida é 10.0 m/s.\n"
          ]
        }
      ],
      "source": [
        "#Inserindo variáveis\n",
        "\n",
        "velociade_media = float(input(\"Digite o valor da velociade: \"))\n",
        "distancia_media_m = float(input(\"Digite o valor da distância média: \"))\n",
        "tempo_medio_s = float(input(\"Digite o valor do tempo médio: \"))\n",
        "\n",
        "#Inserindo resultado\n",
        "\n",
        "velocidade_media = distancia_media_m / tempo_medio_s\n",
        "\n",
        "#imprimindo resultado\n",
        "\n",
        "print(f\"O resutado da velocidade média pecorrida é {velociade_media} m/s.\")\n"
      ]
    }
  ]
}
