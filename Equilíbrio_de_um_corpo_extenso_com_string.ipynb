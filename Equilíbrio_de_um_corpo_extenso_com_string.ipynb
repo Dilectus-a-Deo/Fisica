{
  "nbformat": 4,
  "nbformat_minor": 0,
  "metadata": {
    "colab": {
      "provenance": [],
      "authorship_tag": "ABX9TyNcecgTax07DDiISNeRtEHz",
      "include_colab_link": true
    },
    "kernelspec": {
      "name": "python3",
      "display_name": "Python 3"
    },
    "language_info": {
      "name": "python"
    }
  },
  "cells": [
    {
      "cell_type": "markdown",
      "metadata": {
        "id": "view-in-github",
        "colab_type": "text"
      },
      "source": [
        "<a href=\"https://colab.research.google.com/github/Dilectus-a-Deo/Fisica/blob/main/Equil%C3%ADbrio_de_um_corpo_extenso_com_string.ipynb\" target=\"_parent\"><img src=\"https://colab.research.google.com/assets/colab-badge.svg\" alt=\"Open In Colab\"/></a>"
      ]
    },
    {
      "cell_type": "code",
      "execution_count": 2,
      "metadata": {
        "colab": {
          "base_uri": "https://localhost:8080/"
        },
        "id": "n6RKVdeXw37M",
        "outputId": "df509649-d176-467c-c761-de8a4a03b467"
      },
      "outputs": [
        {
          "output_type": "stream",
          "name": "stdout",
          "text": [
            "Digite o peso da criança : 10\n",
            "Digite o peso da criança : 20\n",
            "Digite o peso da criança : 40\n",
            "Para equilibrar a gangorra , a criança mais magra deve pesar 5.0 Kgf.\n"
          ]
        }
      ],
      "source": [
        "# Definindo variáveis\n",
        "\n",
        "peso_da_crianca_forte_kgf = float(input(\"Digite o peso da criança : \" ))\n",
        "distancia_da_crianca_forte_m = float(input(\"Digite o peso da criança : \" ))\n",
        "distancia_da_crianca_magra_m= float(input(\"Digite o peso da criança : \" ))\n",
        "\n",
        "# Calculando o peso da crinaça da criança mais magra para equilibrar a gangorra\n",
        "\n",
        "peso_da_crianca_magra_kgf = peso_da_crianca_forte_kgf * distancia_da_crianca_forte_m / distancia_da_crianca_magra_m\n",
        "\n",
        "#imprimindo\n",
        "\n",
        "print(f\"Para equilibrar a gangorra , a criança mais magra deve pesar {peso_da_crianca_magra_kgf} Kgf.\")"
      ]
    }
  ]
}