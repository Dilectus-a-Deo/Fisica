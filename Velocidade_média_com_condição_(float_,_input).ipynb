{
  "nbformat": 4,
  "nbformat_minor": 0,
  "metadata": {
    "colab": {
      "provenance": [],
      "authorship_tag": "ABX9TyOW0DGUmS5z3ri7o4Ovjcyg",
      "include_colab_link": true
    },
    "kernelspec": {
      "name": "python3",
      "display_name": "Python 3"
    },
    "language_info": {
      "name": "python"
    }
  },
  "cells": [
    {
      "cell_type": "markdown",
      "metadata": {
        "id": "view-in-github",
        "colab_type": "text"
      },
      "source": [
        "<a href=\"https://colab.research.google.com/github/Dilectus-a-Deo/Fisica/blob/main/Velocidade_m%C3%A9dia_com_condi%C3%A7%C3%A3o_(float_%2C_input).ipynb\" target=\"_parent\"><img src=\"https://colab.research.google.com/assets/colab-badge.svg\" alt=\"Open In Colab\"/></a>"
      ]
    },
    {
      "cell_type": "code",
      "execution_count": 8,
      "metadata": {
        "colab": {
          "base_uri": "https://localhost:8080/"
        },
        "id": "gd40jtmrNcRi",
        "outputId": "3f178413-428a-4cc7-a7e8-48d568534d8d"
      },
      "outputs": [
        {
          "output_type": "stream",
          "name": "stdout",
          "text": [
            "Digite o valor da velocidade: 100\n",
            "Digite o valor da distância média: 2\n",
            "Digite o valor do tempo: 1\n",
            "velocidade média alta.\n",
            "Velocidade média:100.00 km/h \n"
          ]
        }
      ],
      "source": [
        "#Inserindo variáveis\n",
        "\n",
        "Velociade_media = float(input(\"Digite o valor da Velocidade: \"))\n",
        "Distancia_media = float(input(\"Digite o valor da Distância: \"))\n",
        "Tempo_medio = float(input(\"Digite o valor do Tempo: \"))\n",
        "\n",
        "#Fornecendo a expressão\n",
        "\n",
        "Velocidae_media = Distancia_media / Tempo_medio\n",
        "\n",
        "#Introduzindo a condição\n",
        "\n",
        "if Velociade_media < 40:\n",
        "  print(\"Velocidade média é baixa.\")\n",
        "\n",
        "elif Velociade_media >= 40 and Velociade_media < 80:\n",
        "  print(\"Velocidade média é moderada.\")\n",
        "\n",
        "else:\n",
        "  print(\"velocidade média é alta.\")\n",
        "\n",
        "#Imprimindo o valor da velociade média final\n",
        "print(f\"Velocidade média:{Velociade_media:.2f}km/h \")\n",
        "\n",
        "\n",
        "\n",
        "\n",
        "\n",
        "\n",
        "\n",
        "\n",
        "\n"
      ]
    }
  ]
}