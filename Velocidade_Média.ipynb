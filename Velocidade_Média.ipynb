{
  "nbformat": 4,
  "nbformat_minor": 0,
  "metadata": {
    "colab": {
      "provenance": [],
      "authorship_tag": "ABX9TyO2eCiDGFopa/4NkQxiME2a",
      "include_colab_link": true
    },
    "kernelspec": {
      "name": "python3",
      "display_name": "Python 3"
    },
    "language_info": {
      "name": "python"
    }
  },
  "cells": [
    {
      "cell_type": "markdown",
      "metadata": {
        "id": "view-in-github",
        "colab_type": "text"
      },
      "source": [
        "<a href=\"https://colab.research.google.com/github/Dilectus-a-Deo/fisica/blob/main/Velocidade_M%C3%A9dia.ipynb\" target=\"_parent\"><img src=\"https://colab.research.google.com/assets/colab-badge.svg\" alt=\"Open In Colab\"/></a>"
      ]
    },
    {
      "cell_type": "code",
      "execution_count": 10,
      "metadata": {
        "colab": {
          "base_uri": "https://localhost:8080/"
        },
        "id": "SqYKlV0EWJF_",
        "outputId": "6b669da1-03d3-4042-8322-1a940fefaff3"
      },
      "outputs": [
        {
          "output_type": "stream",
          "name": "stdout",
          "text": [
            "O resultado da velociade média percorrida é 20.0 m/s .\n"
          ]
        }
      ],
      "source": [
        "#inserindo variáveis\n",
        "\n",
        "velociade_media\n",
        "distancia_media_m = 100\n",
        "tempo_medio_s = 5\n",
        "\n",
        "#inserindo fórmula\n",
        "\n",
        "velociade_media = distancia_media_m / tempo_medio_s\n",
        "\n",
        "#imprimindo resultado\n",
        "\n",
        "print(f\"O resultado da velociade média percorrida é {velociade_media} m/s .\")"
      ]
    }
  ]
}