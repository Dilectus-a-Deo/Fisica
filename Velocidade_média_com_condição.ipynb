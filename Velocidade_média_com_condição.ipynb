{
  "nbformat": 4,
  "nbformat_minor": 0,
  "metadata": {
    "colab": {
      "provenance": [],
      "authorship_tag": "ABX9TyPMltE8BjS5mf7wsT/Uc/Xz",
      "include_colab_link": true
    },
    "kernelspec": {
      "name": "python3",
      "display_name": "Python 3"
    },
    "language_info": {
      "name": "python"
    }
  },
  "cells": [
    {
      "cell_type": "markdown",
      "metadata": {
        "id": "view-in-github",
        "colab_type": "text"
      },
      "source": [
        "<a href=\"https://colab.research.google.com/github/Dilectus-a-Deo/Fisica/blob/main/Velocidade_m%C3%A9dia_com_condi%C3%A7%C3%A3o.ipynb\" target=\"_parent\"><img src=\"https://colab.research.google.com/assets/colab-badge.svg\" alt=\"Open In Colab\"/></a>"
      ]
    },
    {
      "cell_type": "code",
      "execution_count": 3,
      "metadata": {
        "colab": {
          "base_uri": "https://localhost:8080/"
        },
        "id": "gd40jtmrNcRi",
        "outputId": "162e01e7-890b-4141-b8d8-5c71d1ca0728"
      },
      "outputs": [
        {
          "output_type": "stream",
          "name": "stdout",
          "text": [
            "Digite o valor da Distância: 100\n",
            "Digite o valor do Tempo: 1\n",
            "velocidade média é alta.\n",
            "Velocidade média:100.00 km/h \n"
          ]
        }
      ],
      "source": [
        "#Inserindo variáveis\n",
        "\n",
        "Distancia_media = float(input(\"Digite o valor da Distância: \"))\n",
        "Tempo_medio = float(input(\"Digite o valor do Tempo: \"))\n",
        "\n",
        "#Fornecendo a expressão\n",
        "\n",
        "Velocidade_media = Distancia_media / Tempo_medio\n",
        "\n",
        "#Introduzindo a condição\n",
        "\n",
        "if Velocidade_media < 40:\n",
        "  print(\"Velocidade média é baixa.\")\n",
        "\n",
        "elif Velocidade_media >= 40 and Velocidade_media < 80:\n",
        "  print(\"Velocidade média é moderada.\")\n",
        "\n",
        "else:\n",
        "  print(\"velocidade média é alta.\")\n",
        "\n",
        "#Imprimindo o valor da velociade média final\n",
        "print(f\"Velocidade média:{Velocidade_media:.2f} km/h \")"
      ]
    }
  ]
}